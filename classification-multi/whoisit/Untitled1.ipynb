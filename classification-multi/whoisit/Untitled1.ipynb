{
 "cells": [
  {
   "cell_type": "code",
   "execution_count": 1,
   "metadata": {},
   "outputs": [
    {
     "name": "stdout",
     "output_type": "stream",
     "text": [
      "[[(77, 263), (262, 449)]] @@@@@@points@@\n",
      "[[(97, 242), (283, 428)]] @@@@@@points@@\n",
      "[[(150, 253), (304, 408)]] @@@@@@points@@\n",
      "[[(184, 236), (339, 391)]] @@@@@@points@@\n",
      "[[(218, 236), (373, 391)]] @@@@@@points@@\n",
      "[[(253, 236), (408, 391)]] @@@@@@points@@\n",
      "[[(270, 236), (425, 391)]] @@@@@@points@@\n",
      "[[(282, 239), (411, 368)]] @@@@@@points@@\n",
      "[[(253, 236), (408, 391)]] @@@@@@points@@\n",
      "[[(236, 236), (390, 391)]] @@@@@@points@@\n",
      "[[(236, 236), (390, 391)]] @@@@@@points@@\n",
      "[[(236, 236), (390, 391)]] @@@@@@points@@\n",
      "[[(236, 236), (390, 391)]] @@@@@@points@@\n",
      "[[(218, 219), (373, 374)]] @@@@@@points@@\n",
      "[[(201, 236), (356, 391)]] @@@@@@points@@\n",
      "[[(184, 236), (339, 391)]] @@@@@@points@@\n",
      "[[(184, 236), (339, 391)]] @@@@@@points@@\n",
      "[[(159, 222), (345, 407)]] @@@@@@points@@\n",
      "[[(139, 222), (324, 407)]] @@@@@@points@@\n",
      "[[(139, 242), (324, 428)]] @@@@@@points@@\n",
      "[[(139, 242), (324, 428)]] @@@@@@points@@\n",
      "[[(139, 242), (324, 428)]] @@@@@@points@@\n",
      "[[(139, 242), (324, 428)]] @@@@@@points@@\n",
      "[[(139, 242), (324, 428)]] @@@@@@points@@\n",
      "[[(139, 242), (324, 428)]] @@@@@@points@@\n",
      "[[(139, 242), (324, 428)]] @@@@@@points@@\n",
      "[[(139, 242), (324, 428)]] @@@@@@points@@\n",
      "[[(139, 222), (324, 407)]] @@@@@@points@@\n",
      "[[(139, 222), (324, 407)]] @@@@@@points@@\n",
      "[[(139, 222), (324, 407)]] @@@@@@points@@\n",
      "[[(139, 222), (324, 407)]] @@@@@@points@@\n",
      "[[(139, 222), (324, 407)]] @@@@@@points@@\n",
      "[[(139, 222), (324, 407)]] @@@@@@points@@\n",
      "[[(118, 222), (304, 407)]] @@@@@@points@@\n",
      "[[(118, 222), (304, 407)]] @@@@@@points@@\n",
      "[[(118, 222), (304, 407)]] @@@@@@points@@\n",
      "[[(97, 201), (283, 387)]] @@@@@@points@@\n",
      "[[(77, 222), (262, 407)]] @@@@@@points@@\n",
      "[[(56, 222), (242, 407)]] @@@@@@points@@\n",
      "[[(77, 222), (262, 407)]] @@@@@@points@@\n"
     ]
    }
   ],
   "source": [
    "#라이브러리 임포트\n",
    "# from keras.models import load_model\n",
    "import cv2\n",
    "import dlib\n",
    "\n",
    "#분류 모델 임포트\n",
    "# model = load_model('./pretrained_VGG_weight.hdf5')\n",
    "\n",
    "face_detector = dlib.get_frontal_face_detector()\n",
    "#카메라 들어오는 부분\n",
    "cap = cv2.VideoCapture(0)\n",
    "while True:\n",
    "    ret, frame = cap.read()\n",
    "    if not ret:\n",
    "        print('카메라 에러')\n",
    "        break\n",
    "\n",
    "    #얼굴 인식 처리 부분\n",
    "    faces = face_detector(frame,1)\n",
    "    faces_count = len(faces)\n",
    "    \n",
    "    #영상 정보 출력\n",
    "    text = str('faces : %d' % faces_count)\n",
    "    \n",
    "\n",
    "    #크롭핑(인식 향상 위한)\n",
    "    for k, d in enumerate(faces):\n",
    "        points = list()\n",
    "        points.append([(d.left(),d.top()),(d.right(),d.bottom())])\n",
    "        print(points,'@@@@@@points@@')\n",
    "        # print(\"Detection {}: Left: {} Top: {} Right: {} Bottom: {}\"\n",
    "        #     .format(k, d.left(), d.top(), d.right(), d.bottom()))\n",
    "        crop = frame[d.left():d.right(), d.top():d.bottom()]\n",
    "\n",
    "\n",
    "    #분류 결과 화면 출력(추후 유사도등 계산 결과 받아오면 됨.)\n",
    "    # test_datagen = ImageDataGenerator(rescale=1./255)\n",
    "    # test_generator = test_datagen.flow_from_directory(test_dir, batch_size=batch_size, target_size=(220,200), color_mode='rgb',class_mode='categorical', shuffle=False, seed = 0)\n",
    "    # yhat_test = model.predict(test_generator, batch_size=batch_size)\n",
    "\n",
    "\n",
    "    cv2.putText(frame, text, (10, 50), cv2.FONT_HERSHEY_PLAIN, 3 , (0,0,0))\n",
    "\n",
    "    if(ret):\n",
    "        cv2.imshow('cap',frame)\n",
    "        if faces_count >= 1:\n",
    "            #크롭핑 된 이미지 실시간 분류\n",
    "\n",
    "            #분류 결과 출력\n",
    "#             crop = cv2.line(crop, (d.left(),d.top()),(d.right(),d.bottom()), red_color, 5)\n",
    "            cv2.imshow('crop', cv2.resize(crop, (300,300)))\n",
    "        else:\n",
    "            pass\n",
    "        if cv2.waitKey(1) == ord('q'):\n",
    "            break\n",
    "cap.release()\n",
    "cv2.destroyAllWindows()\n",
    "\n"
   ]
  },
  {
   "cell_type": "code",
   "execution_count": 2,
   "metadata": {},
   "outputs": [
    {
     "data": {
      "text/plain": [
       "180"
      ]
     },
     "execution_count": 2,
     "metadata": {},
     "output_type": "execute_result"
    }
   ],
   "source": [
    "d.left()"
   ]
  },
  {
   "cell_type": "code",
   "execution_count": 12,
   "metadata": {},
   "outputs": [
    {
     "name": "stdout",
     "output_type": "stream",
     "text": [
      "0\n"
     ]
    }
   ],
   "source": [
    "import cv2\n",
    "import dlib\n",
    "face_detector = dlib.get_frontal_face_detector()\n",
    "red_color = (0,0,255)\n",
    "img = cv2.imread(r'C:\\Users\\fishd\\Documents\\GitHub\\vision\\face_key\\utility\\crop_face\\dataset\\target\\a\\20170122_100011.jpg')\n",
    "img = cv2.resize(img,(600,800))\n",
    "faces = face_detector(img,1)\n",
    "for k,d in enumerate(faces):\n",
    "    print(k)\n",
    "cv2.rectangle(img,(141,290),(409,558),red_color,5)\n",
    "crop = img[290:558, 141:409]\n",
    "cv2.imshow('img',img)\n",
    "cv2.imshow('crop',crop)\n",
    "cv2.waitKey(0)\n",
    "cv2.destroyAllWindows()"
   ]
  },
  {
   "cell_type": "code",
   "execution_count": 15,
   "metadata": {},
   "outputs": [
    {
     "data": {
      "text/plain": [
       "rectangles[[(141, 290) (409, 558)]]"
      ]
     },
     "execution_count": 15,
     "metadata": {},
     "output_type": "execute_result"
    }
   ],
   "source": [
    "faces"
   ]
  },
  {
   "cell_type": "code",
   "execution_count": 5,
   "metadata": {},
   "outputs": [
    {
     "data": {
      "text/plain": [
       "141"
      ]
     },
     "execution_count": 5,
     "metadata": {},
     "output_type": "execute_result"
    }
   ],
   "source": [
    "d.left() # y1"
   ]
  },
  {
   "cell_type": "code",
   "execution_count": 6,
   "metadata": {},
   "outputs": [
    {
     "data": {
      "text/plain": [
       "409"
      ]
     },
     "execution_count": 6,
     "metadata": {},
     "output_type": "execute_result"
    }
   ],
   "source": [
    "d.right() # y2"
   ]
  },
  {
   "cell_type": "code",
   "execution_count": 7,
   "metadata": {},
   "outputs": [
    {
     "data": {
      "text/plain": [
       "558"
      ]
     },
     "execution_count": 7,
     "metadata": {},
     "output_type": "execute_result"
    }
   ],
   "source": [
    "d.bottom() # x2"
   ]
  },
  {
   "cell_type": "code",
   "execution_count": 8,
   "metadata": {},
   "outputs": [
    {
     "data": {
      "text/plain": [
       "290"
      ]
     },
     "execution_count": 8,
     "metadata": {},
     "output_type": "execute_result"
    }
   ],
   "source": [
    "d.top() # x1"
   ]
  },
  {
   "cell_type": "code",
   "execution_count": 1,
   "metadata": {},
   "outputs": [
    {
     "ename": "NameError",
     "evalue": "name 'img' is not defined",
     "output_type": "error",
     "traceback": [
      "\u001b[1;31m---------------------------------------------------------------------------\u001b[0m",
      "\u001b[1;31mNameError\u001b[0m                                 Traceback (most recent call last)",
      "\u001b[1;32m<ipython-input-1-29a61bc4576c>\u001b[0m in \u001b[0;36m<module>\u001b[1;34m\u001b[0m\n\u001b[1;32m----> 1\u001b[1;33m \u001b[0mimg\u001b[0m\u001b[1;33m[\u001b[0m\u001b[0md\u001b[0m\u001b[1;33m.\u001b[0m\u001b[0mtop\u001b[0m\u001b[1;33m(\u001b[0m\u001b[1;33m)\u001b[0m\u001b[1;33m:\u001b[0m\u001b[0md\u001b[0m\u001b[1;33m.\u001b[0m\u001b[0mbottom\u001b[0m\u001b[1;33m(\u001b[0m\u001b[1;33m)\u001b[0m\u001b[1;33m,\u001b[0m\u001b[0md\u001b[0m\u001b[1;33m.\u001b[0m\u001b[0mleft\u001b[0m\u001b[1;33m(\u001b[0m\u001b[1;33m)\u001b[0m\u001b[1;33m:\u001b[0m\u001b[0md\u001b[0m\u001b[1;33m.\u001b[0m\u001b[0mright\u001b[0m\u001b[1;33m(\u001b[0m\u001b[1;33m)\u001b[0m\u001b[1;33m]\u001b[0m\u001b[1;33m\u001b[0m\u001b[1;33m\u001b[0m\u001b[0m\n\u001b[0m",
      "\u001b[1;31mNameError\u001b[0m: name 'img' is not defined"
     ]
    }
   ],
   "source": [
    "img[d.top():d.bottom(),d.left():d.right()]"
   ]
  },
  {
   "cell_type": "code",
   "execution_count": 2,
   "metadata": {
    "scrolled": true
   },
   "outputs": [
    {
     "data": {
      "text/plain": [
       "[name: \"/device:CPU:0\"\n",
       " device_type: \"CPU\"\n",
       " memory_limit: 268435456\n",
       " locality {\n",
       " }\n",
       " incarnation: 6260011530540073622,\n",
       " name: \"/device:XLA_CPU:0\"\n",
       " device_type: \"XLA_CPU\"\n",
       " memory_limit: 17179869184\n",
       " locality {\n",
       " }\n",
       " incarnation: 3050459330347019672\n",
       " physical_device_desc: \"device: XLA_CPU device\",\n",
       " name: \"/device:GPU:0\"\n",
       " device_type: \"GPU\"\n",
       " memory_limit: 4959293952\n",
       " locality {\n",
       "   bus_id: 1\n",
       "   links {\n",
       "   }\n",
       " }\n",
       " incarnation: 7685472143216727434\n",
       " physical_device_desc: \"device: 0, name: GeForce RTX 2060, pci bus id: 0000:01:00.0, compute capability: 7.5\",\n",
       " name: \"/device:XLA_GPU:0\"\n",
       " device_type: \"XLA_GPU\"\n",
       " memory_limit: 17179869184\n",
       " locality {\n",
       " }\n",
       " incarnation: 4047411574161506355\n",
       " physical_device_desc: \"device: XLA_GPU device\"]"
      ]
     },
     "execution_count": 2,
     "metadata": {},
     "output_type": "execute_result"
    }
   ],
   "source": [
    "from tensorflow.python.client import device_lib\n",
    "device_lib.list_local_devices()"
   ]
  },
  {
   "cell_type": "code",
   "execution_count": 3,
   "metadata": {},
   "outputs": [
    {
     "name": "stdout",
     "output_type": "stream",
     "text": [
      "Num GPUs Available:  1\n"
     ]
    }
   ],
   "source": [
    "import tensorflow as tf\n",
    "print(\"Num GPUs Available: \", len(tf.config.experimental.list_physical_devices('GPU')))"
   ]
  },
  {
   "cell_type": "code",
   "execution_count": null,
   "metadata": {},
   "outputs": [],
   "source": []
  },
  {
   "cell_type": "code",
   "execution_count": null,
   "metadata": {},
   "outputs": [],
   "source": []
  }
 ],
 "metadata": {
  "kernelspec": {
   "display_name": "tarocat_python3.6",
   "language": "python",
   "name": "tarocat"
  },
  "language_info": {
   "codemirror_mode": {
    "name": "ipython",
    "version": 3
   },
   "file_extension": ".py",
   "mimetype": "text/x-python",
   "name": "python",
   "nbconvert_exporter": "python",
   "pygments_lexer": "ipython3",
   "version": "3.6.12"
  }
 },
 "nbformat": 4,
 "nbformat_minor": 4
}
